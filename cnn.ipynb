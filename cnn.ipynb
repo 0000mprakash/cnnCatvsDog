{
 "cells": [
  {
   "cell_type": "code",
   "execution_count": 1,
   "id": "477b35f8-76a2-4b86-9801-74020f777d72",
   "metadata": {},
   "outputs": [
    {
     "name": "stdout",
     "output_type": "stream",
     "text": [
      "3-conv-64-nodes-0-dense-1670782213\n",
      "Model: \"sequential\"\n",
      "_________________________________________________________________\n",
      " Layer (type)                Output Shape              Param #   \n",
      "=================================================================\n",
      " conv2d (Conv2D)             (None, 148, 148, 64)      640       \n",
      "                                                                 \n",
      " activation (Activation)     (None, 148, 148, 64)      0         \n",
      "                                                                 \n",
      " max_pooling2d (MaxPooling2D  (None, 74, 74, 64)       0         \n",
      " )                                                               \n",
      "                                                                 \n",
      " conv2d_1 (Conv2D)           (None, 72, 72, 64)        36928     \n",
      "                                                                 \n",
      " activation_1 (Activation)   (None, 72, 72, 64)        0         \n",
      "                                                                 \n",
      " max_pooling2d_1 (MaxPooling  (None, 36, 36, 64)       0         \n",
      " 2D)                                                             \n",
      "                                                                 \n",
      " conv2d_2 (Conv2D)           (None, 34, 34, 64)        36928     \n",
      "                                                                 \n",
      " activation_2 (Activation)   (None, 34, 34, 64)        0         \n",
      "                                                                 \n",
      " max_pooling2d_2 (MaxPooling  (None, 17, 17, 64)       0         \n",
      " 2D)                                                             \n",
      "                                                                 \n",
      " flatten (Flatten)           (None, 18496)             0         \n",
      "                                                                 \n",
      " dense (Dense)               (None, 1)                 18497     \n",
      "                                                                 \n",
      " activation_3 (Activation)   (None, 1)                 0         \n",
      "                                                                 \n",
      "=================================================================\n",
      "Total params: 92,993\n",
      "Trainable params: 92,993\n",
      "Non-trainable params: 0\n",
      "_________________________________________________________________\n",
      "Epoch 1/10\n",
      "547/547 [==============================] - 436s 795ms/step - loss: 0.6120 - accuracy: 0.6530 - val_loss: 0.5251 - val_accuracy: 0.7393\n",
      "Epoch 2/10\n",
      "547/547 [==============================] - 415s 759ms/step - loss: 0.4826 - accuracy: 0.7724 - val_loss: 0.4793 - val_accuracy: 0.7780\n",
      "Epoch 3/10\n",
      "547/547 [==============================] - 397s 725ms/step - loss: 0.4153 - accuracy: 0.8093 - val_loss: 0.4257 - val_accuracy: 0.8068\n",
      "Epoch 4/10\n",
      "547/547 [==============================] - 382s 698ms/step - loss: 0.3704 - accuracy: 0.8340 - val_loss: 0.4389 - val_accuracy: 0.7880\n",
      "Epoch 5/10\n",
      "547/547 [==============================] - 369s 674ms/step - loss: 0.3220 - accuracy: 0.8587 - val_loss: 0.4021 - val_accuracy: 0.8224\n",
      "Epoch 6/10\n",
      "547/547 [==============================] - 379s 693ms/step - loss: 0.2755 - accuracy: 0.8822 - val_loss: 0.3977 - val_accuracy: 0.8257\n",
      "Epoch 7/10\n",
      "547/547 [==============================] - 405s 740ms/step - loss: 0.2373 - accuracy: 0.8995 - val_loss: 0.4334 - val_accuracy: 0.8256\n",
      "Epoch 8/10\n",
      "547/547 [==============================] - 397s 725ms/step - loss: 0.1964 - accuracy: 0.9186 - val_loss: 0.4444 - val_accuracy: 0.8217\n",
      "Epoch 9/10\n",
      "547/547 [==============================] - 373s 681ms/step - loss: 0.1616 - accuracy: 0.9347 - val_loss: 0.4670 - val_accuracy: 0.8263\n",
      "Epoch 10/10\n",
      "547/547 [==============================] - 418s 764ms/step - loss: 0.1300 - accuracy: 0.9498 - val_loss: 0.5571 - val_accuracy: 0.8208\n"
     ]
    },
    {
     "name": "stderr",
     "output_type": "stream",
     "text": [
      "WARNING:absl:Found untraced functions such as _jit_compiled_convolution_op, _jit_compiled_convolution_op, _jit_compiled_convolution_op while saving (showing 3 of 3). These functions will not be directly callable after loading.\n"
     ]
    },
    {
     "name": "stdout",
     "output_type": "stream",
     "text": [
      "INFO:tensorflow:Assets written to: 64x3-CNN.model\\assets\n"
     ]
    },
    {
     "name": "stderr",
     "output_type": "stream",
     "text": [
      "INFO:tensorflow:Assets written to: 64x3-CNN.model\\assets\n"
     ]
    }
   ],
   "source": [
    "from tensorflow.keras.models import Sequential\n",
    "from tensorflow.keras.layers import Dense, Dropout, Activation, Flatten\n",
    "from tensorflow.keras.layers import Conv2D, MaxPooling2D\n",
    "# more info on callbakcs: https://keras.io/callbacks/ model saver is cool too.\n",
    "from tensorflow.keras.callbacks import TensorBoard\n",
    "import pickle\n",
    "import numpy as np\n",
    "import time\n",
    "\n",
    "pickle_in = open(\"X.pickle\",\"rb\")\n",
    "X = pickle.load(pickle_in)\n",
    "\n",
    "pickle_in = open(\"y.pickle\",\"rb\")\n",
    "y = pickle.load(pickle_in)\n",
    "\n",
    "X = X/255.0\n",
    "\n",
    "dense_layers = [0]\n",
    "layer_sizes = [64]\n",
    "conv_layers = [3]\n",
    "\n",
    "for dense_layer in dense_layers:\n",
    "    for layer_size in layer_sizes:\n",
    "        for conv_layer in conv_layers:\n",
    "            NAME = \"{}-conv-{}-nodes-{}-dense-{}\".format(conv_layer, layer_size, dense_layer, int(time.time()))\n",
    "            print(NAME)\n",
    "\n",
    "            model = Sequential()\n",
    "\n",
    "            model.add(Conv2D(layer_size, (3, 3), input_shape=X.shape[1:]))\n",
    "            model.add(Activation('relu'))\n",
    "            model.add(MaxPooling2D(pool_size=(2, 2)))\n",
    "\n",
    "            for l in range(conv_layer-1):\n",
    "                model.add(Conv2D(layer_size, (3, 3)))\n",
    "                model.add(Activation('relu'))\n",
    "                model.add(MaxPooling2D(pool_size=(2, 2)))\n",
    "\n",
    "            model.add(Flatten())\n",
    "\n",
    "            for _ in range(dense_layer):\n",
    "                model.add(Dense(layer_size))\n",
    "                model.add(Activation('relu'))\n",
    "\n",
    "            model.add(Dense(1))\n",
    "            model.add(Activation('sigmoid'))\n",
    "\n",
    "            tensorboard = TensorBoard(log_dir=\"logs/{}\".format(NAME))\n",
    "\n",
    "            model.compile(loss='binary_crossentropy',\n",
    "                          optimizer='adam',\n",
    "                          metrics=['accuracy'],\n",
    "                          )\n",
    "            model.summary()\n",
    "            y = np.array(y)\n",
    "            model.fit(X, y,\n",
    "                      batch_size=32,\n",
    "                      epochs=10,\n",
    "                      validation_split=0.3,\n",
    "                      callbacks=[tensorboard])\n",
    "\n",
    "model.save('64x3-CNN.model')"
   ]
  },
  {
   "cell_type": "code",
   "execution_count": null,
   "id": "f1a4fb5a-8c68-4961-a30a-456ed9cb667b",
   "metadata": {},
   "outputs": [],
   "source": []
  }
 ],
 "metadata": {
  "kernelspec": {
   "display_name": "Python 3 (ipykernel)",
   "language": "python",
   "name": "python3"
  },
  "language_info": {
   "codemirror_mode": {
    "name": "ipython",
    "version": 3
   },
   "file_extension": ".py",
   "mimetype": "text/x-python",
   "name": "python",
   "nbconvert_exporter": "python",
   "pygments_lexer": "ipython3",
   "version": "3.9.13"
  }
 },
 "nbformat": 4,
 "nbformat_minor": 5
}
